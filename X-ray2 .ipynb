{
 "cells": [
  {
   "cell_type": "code",
   "execution_count": 1,
   "metadata": {},
   "outputs": [
    {
     "name": "stderr",
     "output_type": "stream",
     "text": [
      "Using TensorFlow backend.\n"
     ]
    }
   ],
   "source": [
    "import pandas as pd\n",
    "import os\n",
    "import numpy as np\n",
    "from keras.models import Sequential\n",
    "from keras.models import load_model\n",
    "from keras.layers import Dense,Dropout,Flatten,Activation\n",
    "from keras.layers.convolutional import Conv2D,MaxPooling2D,ZeroPadding2D,AveragePooling2D\n",
    "from keras.utils import np_utils\n",
    "import skimage\n",
    "from keras.utils.np_utils import to_categorical\n",
    "from sklearn.utils import shuffle\n",
    "from keras.callbacks import ModelCheckpoint"
   ]
  },
  {
   "cell_type": "code",
   "execution_count": 2,
   "metadata": {},
   "outputs": [],
   "source": [
    "import cv2"
   ]
  },
  {
   "cell_type": "code",
   "execution_count": 3,
   "metadata": {},
   "outputs": [],
   "source": [
    "import matplotlib.pyplot as plt\n",
    "import matplotlib.image as mpimg\n",
    "from skimage.color import rgb2gray"
   ]
  },
  {
   "cell_type": "code",
   "execution_count": 4,
   "metadata": {},
   "outputs": [
    {
     "data": {
      "text/plain": [
       "'C:\\\\Users\\\\AnKajVi\\\\Documents'"
      ]
     },
     "execution_count": 4,
     "metadata": {},
     "output_type": "execute_result"
    }
   ],
   "source": [
    "os.getcwd()"
   ]
  },
  {
   "cell_type": "code",
   "execution_count": 5,
   "metadata": {},
   "outputs": [],
   "source": [
    "os.chdir('./chest-xray-pneumonia/chest_xray/train')"
   ]
  },
  {
   "cell_type": "code",
   "execution_count": 6,
   "metadata": {},
   "outputs": [
    {
     "data": {
      "text/plain": [
       "'C:\\\\Users\\\\AnKajVi\\\\Documents\\\\chest-xray-pneumonia\\\\chest_xray\\\\train'"
      ]
     },
     "execution_count": 6,
     "metadata": {},
     "output_type": "execute_result"
    }
   ],
   "source": [
    "os.getcwd()"
   ]
  },
  {
   "cell_type": "code",
   "execution_count": 7,
   "metadata": {},
   "outputs": [
    {
     "name": "stdout",
     "output_type": "stream",
     "text": [
      "NORMAL\n",
      "PNEUMONIA\n"
     ]
    }
   ],
   "source": [
    "for i in os.listdir('./'):\n",
    "    print(i)"
   ]
  },
  {
   "cell_type": "code",
   "execution_count": 8,
   "metadata": {},
   "outputs": [
    {
     "name": "stdout",
     "output_type": "stream",
     "text": [
      "NORMAL:\n",
      "1341\n",
      "PNEUMONIA:\n",
      "3875\n"
     ]
    }
   ],
   "source": [
    "for i in os.listdir('./'):\n",
    "    count=0\n",
    "    for j in os.listdir('./'+i):\n",
    "        count+=1\n",
    "    print(i +':')\n",
    "    print(count)"
   ]
  },
  {
   "cell_type": "code",
   "execution_count": 9,
   "metadata": {},
   "outputs": [
    {
     "data": {
      "text/plain": [
       "'C:\\\\Users\\\\AnKajVi\\\\Documents\\\\chest-xray-pneumonia\\\\chest_xray\\\\train'"
      ]
     },
     "execution_count": 9,
     "metadata": {},
     "output_type": "execute_result"
    }
   ],
   "source": [
    "os.getcwd()"
   ]
  },
  {
   "cell_type": "code",
   "execution_count": 10,
   "metadata": {},
   "outputs": [],
   "source": [
    "def get_data(end):\n",
    "    x=[]\n",
    "    y=[]\n",
    "    label=0\n",
    "    print(\"Reading_Files\")\n",
    "    file=0\n",
    "    for i in os.listdir('./'):\n",
    "        if(i=='PNEUMONIA'):\n",
    "            print(\"----PNEUMONIA------\")\n",
    "            #label=1\n",
    "            cnt=0\n",
    "            for j in os.listdir('./'+'PNEUMONIA'):\n",
    "                img_file = mpimg.imread('./'+i+'/'+j)\n",
    "                img_file=rgb2gray(img_file)\n",
    "                img_file = skimage.transform.resize(img_file, (100,100,1))\n",
    "                img_arr = np.asarray(img_file)\n",
    "                x.append(img_arr)\n",
    "                y.append(1)\n",
    "                cnt+=1\n",
    "                if cnt>=end: \n",
    "                    break\n",
    "        else:\n",
    "            print(\"----NORMAL-----\")\n",
    "            cnt=0\n",
    "            #label=0\n",
    "            for j in os.listdir('./'+i):\n",
    "                img_file = mpimg.imread('./'+i+'/'+j)\n",
    "                img_file=rgb2gray(img_file)\n",
    "                img_file = skimage.transform.resize(img_file, (100,100,1))\n",
    "                img_arr = np.asarray(img_file)\n",
    "                x.append(img_arr)\n",
    "                y.append(0)\n",
    "                cnt+=1\n",
    "                if cnt>=end:\n",
    "                    break;\n",
    "    x = np.asarray(x)\n",
    "    y = np.asarray(y)\n",
    "    print(\"----------------READING COMPLETE--------------\")\n",
    "    return x,y"
   ]
  },
  {
   "cell_type": "code",
   "execution_count": 11,
   "metadata": {},
   "outputs": [
    {
     "name": "stdout",
     "output_type": "stream",
     "text": [
      "Reading_Files\n",
      "----NORMAL-----\n",
      "----PNEUMONIA------\n",
      "----------------READING COMPLETE--------------\n",
      "[[1. 0.]\n",
      " [1. 0.]\n",
      " [1. 0.]\n",
      " ...\n",
      " [0. 1.]\n",
      " [0. 1.]\n",
      " [0. 1.]]\n"
     ]
    }
   ],
   "source": [
    "x,y = get_data(1000)\n",
    "y=np_utils.to_categorical(y,num_classes=2)\n",
    "print(y)\n",
    "x,y= shuffle(x,y,random_state=13)"
   ]
  },
  {
   "cell_type": "code",
   "execution_count": 12,
   "metadata": {
    "scrolled": true
   },
   "outputs": [
    {
     "name": "stdout",
     "output_type": "stream",
     "text": [
      "(2000, 2)\n"
     ]
    }
   ],
   "source": [
    "print(y.shape)"
   ]
  },
  {
   "cell_type": "code",
   "execution_count": 13,
   "metadata": {},
   "outputs": [],
   "source": [
    "import keras\n",
    "from keras.layers import Input,Flatten,Dense,Reshape,Dropout\n",
    "from keras.layers import BatchNormalization,Activation,ZeroPadding2D\n",
    "from keras.layers.advanced_activations import LeakyReLU\n",
    "from keras.layers.convolutional import UpSampling2D, Conv2D\n",
    "from keras.layers.pooling import MaxPooling2D\n",
    "from keras.models import Sequential, Model\n",
    "from keras.layers import Add\n",
    "from keras.optimizers import Adam"
   ]
  },
  {
   "cell_type": "code",
   "execution_count": null,
   "metadata": {},
   "outputs": [],
   "source": [
    "def get_model():\n",
    "    input_layer = Input(shape=(100,100,1))\n",
    "    hid = Conv2D(32,(2,2),padding='same', activation='relu')(input_layer)\n",
    "    hid = MaxPooling2D(pool_size=(3,3))(hid)\n",
    "    hid = Conv2D(64,(2,2),padding='same', activation='relu')(hid)\n",
    "    hid = MaxPooling2D(pool_size=(3,3))(hid)\n",
    "    hid2 = hid\n",
    "    hid = Conv2D(64,(2,2),padding='same', activation='relu')(hid)\n",
    "    hid = Add()([hid2,hid])\n",
    "    \n",
    "    hid = MaxPooling2D(pool_size=(3,3))(hid)\n",
    "\n",
    "    hid = Flatten()(hid)\n",
    "    \n",
    "    hid = Dense(32)(hid)\n",
    "    out = Dense(2, activation='softmax')(hid)\n",
    "    \n",
    "    model = Model(inputs= input_layer, outputs= out)\n",
    "    model.summary()\n",
    "    \n",
    "    return model"
   ]
  },
  {
   "cell_type": "code",
   "execution_count": null,
   "metadata": {},
   "outputs": [],
   "source": [
    "model = get_model()\n",
    "\n",
    "model.compile(loss='categorical_crossentropy', optimizer=Adam(lr=0.00001), metrics=['accuracy'])\n",
    "filepath = 'C:\\\\Users\\\\AnKajVi\\\\Documents\\\\Xray2\\\\nnweight-weights.{epoch:02d}-{loss:.2f}.hdf5'\n",
    "checkpoint = ModelCheckpoint(filepath, monitor='loss', verbose=1, save_best_only=True, mode='min')\n",
    "callbacks_list = [checkpoint]\n",
    "\n",
    "model.fit(x,y,epochs=2,batch_size=128,verbose=1,callbacks=callbacks_list)"
   ]
  },
  {
   "cell_type": "code",
   "execution_count": null,
   "metadata": {},
   "outputs": [],
   "source": [
    "def get_test_data(end):\n",
    "    x=[]\n",
    "    y=[]\n",
    "    label=0\n",
    "    print(\"Reading_Files\")\n",
    "    file=0\n",
    "    for i in os.listdir('../test'):\n",
    "        if(i=='PNEUMONIA'):\n",
    "            cnt=0\n",
    "            print(\"----PNEUMONIA------\")\n",
    "            for j in os.listdir('../test/'+'PNEUMONIA'):\n",
    "                img_file = mpimg.imread('../test/'+i+'/'+j)\n",
    "                img_file=rgb2gray(img_file)\n",
    "                img_file = skimage.transform.resize(img_file, (100,100,1))\n",
    "                img_arr = np.asarray(img_file)\n",
    "                x.append(img_arr)\n",
    "                y.append(1)\n",
    "                cnt+=1\n",
    "                if cnt>=end:\n",
    "                    break\n",
    "        else:\n",
    "            cnt=0\n",
    "            print(\"----NORMAL-----\")\n",
    "            for j in os.listdir('./'+i):\n",
    "                img_file = mpimg.imread('../test/'+i+'/'+j)\n",
    "                img_file=rgb2gray(img_file)\n",
    "                img_file = skimage.transform.resize(img_file, (100,100,1))\n",
    "                img_arr = np.asarray(img_file)\n",
    "                x.append(img_arr)\n",
    "                y.append(0)\n",
    "                cnt+=1\n",
    "                if cnt>=end:\n",
    "                    break\n",
    "    x = np.asarray(x)\n",
    "    y = np.asarray(y)\n",
    "    print(\"----------------READING COMPLETE--------------\")\n",
    "    return x,y"
   ]
  },
  {
   "cell_type": "code",
   "execution_count": null,
   "metadata": {},
   "outputs": [],
   "source": [
    "x_test,y_test = get_test_data(150)"
   ]
  },
  {
   "cell_type": "code",
   "execution_count": null,
   "metadata": {},
   "outputs": [],
   "source": [
    "y_test = np_utils.to_categorical(y_test,num_classes=2)\n",
    "print(y_test.shape)"
   ]
  },
  {
   "cell_type": "code",
   "execution_count": 42,
   "metadata": {},
   "outputs": [],
   "source": [
    "_, test_acc = model.evaluate(x_test, y_test, verbose=0)"
   ]
  },
  {
   "cell_type": "code",
   "execution_count": 43,
   "metadata": {},
   "outputs": [
    {
     "name": "stdout",
     "output_type": "stream",
     "text": [
      "Test: 0.843\n"
     ]
    }
   ],
   "source": [
    "print('Test: %.3f' % (test_acc))"
   ]
  }
 ],
 "metadata": {
  "kernelspec": {
   "display_name": "Python 3",
   "language": "python",
   "name": "python3"
  },
  "language_info": {
   "codemirror_mode": {
    "name": "ipython",
    "version": 3
   },
   "file_extension": ".py",
   "mimetype": "text/x-python",
   "name": "python",
   "nbconvert_exporter": "python",
   "pygments_lexer": "ipython3",
   "version": "3.7.3"
  }
 },
 "nbformat": 4,
 "nbformat_minor": 2
}
